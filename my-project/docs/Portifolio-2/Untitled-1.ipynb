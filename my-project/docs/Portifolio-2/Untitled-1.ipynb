{
 "cells": [
  {
   "cell_type": "code",
   "execution_count": 18,
   "metadata": {},
   "outputs": [],
   "source": [
    "class Grafo:\n",
    "    def __init__(self, vertices):\n",
    "        self.V = vertices\n",
    "        self.grafo = {}\n",
    "\n",
    "    def adiciona_no(self, u, v):\n",
    "        if str(u) in self.grafo:\n",
    "            self.grafo[str(u)].append(str(v))\n",
    "            \n",
    "        else:    \n",
    "            self.grafo.update({str(u): []})\n",
    "            self.grafo[str(u)].append(str(v))\n",
    "\n",
    "    def DLS(self, inicio, objetivo, profundidade_limite):\n",
    "        if (int(inicio) == objetivo):\n",
    "            return True\n",
    "\n",
    "        if (profundidade_limite <= 0):\n",
    "            return False\n",
    "\n",
    "        for i in self.grafo[str(inicio)]:\n",
    "            print(i)\n",
    "            if self.DLS(i, objetivo, profundidade_limite-1):   \n",
    "                return True\n",
    "\n",
    "        return False\n",
    "\n",
    "    def IDDFS(self, inicio, objetivo, profundidade):\n",
    "        for i in range(profundidade):\n",
    "            if (self.DLS(inicio, objetivo, i)):\n",
    "                return True\n",
    "        return False"
   ]
  },
  {
   "cell_type": "code",
   "execution_count": 19,
   "metadata": {},
   "outputs": [
    {
     "name": "stdout",
     "output_type": "stream",
     "text": [
      "1\n",
      "2\n",
      "1\n",
      "3\n",
      "4\n",
      "2\n",
      "5\n",
      "6\n",
      "Target is reachable from source within max depth\n"
     ]
    }
   ],
   "source": [
    "g = Grafo (7);\n",
    "g.adiciona_no(0, 1)\n",
    "g.adiciona_no(0, 2)\n",
    "g.adiciona_no(1, 3)\n",
    "g.adiciona_no(1, 4)\n",
    "g.adiciona_no(2, 5)\n",
    "g.adiciona_no(2, 6)\n",
    "\n",
    "objetivo = 6; profundidade_maxima = 3; inicio = 0\n",
    "\n",
    "if g.IDDFS(inicio, objetivo, profundidade_maxima) == True:\n",
    "    print (\"Target is reachable from source within max depth\")\n",
    "else :\n",
    "    print (\"Target is NOT reachable from source within max depth\")"
   ]
  }
 ],
 "metadata": {
  "kernelspec": {
   "display_name": ".venv",
   "language": "python",
   "name": "python3"
  },
  "language_info": {
   "codemirror_mode": {
    "name": "ipython",
    "version": 3
   },
   "file_extension": ".py",
   "mimetype": "text/x-python",
   "name": "python",
   "nbconvert_exporter": "python",
   "pygments_lexer": "ipython3",
   "version": "3.10.12"
  }
 },
 "nbformat": 4,
 "nbformat_minor": 2
}
